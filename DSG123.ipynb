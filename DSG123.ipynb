{
 "cells": [
  {
   "cell_type": "code",
   "execution_count": 1,
   "id": "666dc7f2",
   "metadata": {},
   "outputs": [
    {
     "name": "stdout",
     "output_type": "stream",
     "text": [
      "Hello DSG1123\n"
     ]
    }
   ],
   "source": [
    "print(\"Hello DSG1123\")"
   ]
  },
  {
   "cell_type": "code",
   "execution_count": 2,
   "id": "c07ac258",
   "metadata": {},
   "outputs": [
    {
     "name": "stdout",
     "output_type": "stream",
     "text": [
      "gautam somkuwar\n"
     ]
    }
   ],
   "source": [
    "print(\"gautam somkuwar\")"
   ]
  },
  {
   "cell_type": "code",
   "execution_count": 3,
   "id": "86cf0d63",
   "metadata": {},
   "outputs": [
    {
     "data": {
      "text/plain": [
       "25"
      ]
     },
     "execution_count": 3,
     "metadata": {},
     "output_type": "execute_result"
    }
   ],
   "source": [
    "10+15"
   ]
  },
  {
   "cell_type": "code",
   "execution_count": 4,
   "id": "25c03511",
   "metadata": {},
   "outputs": [
    {
     "data": {
      "text/plain": [
       "5"
      ]
     },
     "execution_count": 4,
     "metadata": {},
     "output_type": "execute_result"
    }
   ],
   "source": [
    "15-10"
   ]
  },
  {
   "cell_type": "code",
   "execution_count": 5,
   "id": "46bd43e9",
   "metadata": {},
   "outputs": [
    {
     "data": {
      "text/plain": [
       "1.5"
      ]
     },
     "execution_count": 5,
     "metadata": {},
     "output_type": "execute_result"
    }
   ],
   "source": [
    "15/10"
   ]
  },
  {
   "cell_type": "code",
   "execution_count": 6,
   "id": "1f0884db",
   "metadata": {},
   "outputs": [
    {
     "data": {
      "text/plain": [
       "3.0"
      ]
     },
     "execution_count": 6,
     "metadata": {},
     "output_type": "execute_result"
    }
   ],
   "source": [
    "15/5"
   ]
  },
  {
   "cell_type": "code",
   "execution_count": null,
   "id": "034baf80",
   "metadata": {},
   "outputs": [],
   "source": []
  },
  {
   "cell_type": "code",
   "execution_count": null,
   "id": "ad745b61",
   "metadata": {},
   "outputs": [],
   "source": [
    "to add/insert a cell above the current cell-ESC+A\n",
    "to add/insert a cell below the current cell-ESC+B\n",
    "to run/execute the cell- shift+enter,ctrl+enter\n",
    "to delete any specific cell-ESC+D+D"
   ]
  },
  {
   "cell_type": "markdown",
   "id": "2d0565b0",
   "metadata": {},
   "source": [
    "HELLO SIR"
   ]
  }
 ],
 "metadata": {
  "kernelspec": {
   "display_name": "Python 3 (ipykernel)",
   "language": "python",
   "name": "python3"
  },
  "language_info": {
   "codemirror_mode": {
    "name": "ipython",
    "version": 3
   },
   "file_extension": ".py",
   "mimetype": "text/x-python",
   "name": "python",
   "nbconvert_exporter": "python",
   "pygments_lexer": "ipython3",
   "version": "3.11.5"
  }
 },
 "nbformat": 4,
 "nbformat_minor": 5
}
