{
 "cells": [
  {
   "cell_type": "code",
   "execution_count": 1,
   "id": "ab4fdc18",
   "metadata": {},
   "outputs": [
    {
     "name": "stdout",
     "output_type": "stream",
     "text": [
      "Hello DSG1123\n"
     ]
    }
   ],
   "source": [
    "print(\"Hello DSG1123\")"
   ]
  },
  {
   "cell_type": "code",
   "execution_count": 2,
   "id": "0ff87733",
   "metadata": {},
   "outputs": [
    {
     "name": "stdout",
     "output_type": "stream",
     "text": [
      "gautam somkuwar\n"
     ]
    }
   ],
   "source": [
    "print(\"gautam somkuwar\")"
   ]
  },
  {
   "cell_type": "code",
   "execution_count": 3,
   "id": "50794beb",
   "metadata": {},
   "outputs": [
    {
     "data": {
      "text/plain": [
       "25"
      ]
     },
     "execution_count": 3,
     "metadata": {},
     "output_type": "execute_result"
    }
   ],
   "source": [
    "10+15"
   ]
  },
  {
   "cell_type": "code",
   "execution_count": 4,
   "id": "a52bd35e",
   "metadata": {},
   "outputs": [
    {
     "data": {
      "text/plain": [
       "5"
      ]
     },
     "execution_count": 4,
     "metadata": {},
     "output_type": "execute_result"
    }
   ],
   "source": [
    "15-10"
   ]
  },
  {
   "cell_type": "code",
   "execution_count": 5,
   "id": "9e2496b6",
   "metadata": {},
   "outputs": [
    {
     "data": {
      "text/plain": [
       "3.0"
      ]
     },
     "execution_count": 5,
     "metadata": {},
     "output_type": "execute_result"
    }
   ],
   "source": [
    "15/5"
   ]
  },
  {
   "cell_type": "markdown",
   "id": "130ea1c1",
   "metadata": {},
   "source": [
    "to add/insert a cell above the current cell-ESC+A\n",
    "to add/insert a cell below the curent cell-ESC+B\n",
    "to run/execute the cell-shift+enter ctrl+enter\n",
    "to delete any specific cell-ESC+D+D"
   ]
  },
  {
   "cell_type": "markdown",
   "id": "27221f56",
   "metadata": {},
   "source": [
    "Hello Everyone"
   ]
  }
 ],
 "metadata": {
  "kernelspec": {
   "display_name": "Python 3 (ipykernel)",
   "language": "python",
   "name": "python3"
  },
  "language_info": {
   "codemirror_mode": {
    "name": "ipython",
    "version": 3
   },
   "file_extension": ".py",
   "mimetype": "text/x-python",
   "name": "python",
   "nbconvert_exporter": "python",
   "pygments_lexer": "ipython3",
   "version": "3.11.5"
  }
 },
 "nbformat": 4,
 "nbformat_minor": 5
}
